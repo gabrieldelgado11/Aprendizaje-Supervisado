{
 "cells": [
  {
   "cell_type": "markdown",
   "metadata": {},
   "source": [
    "# Diplodatos Kaggle Competition"
   ]
  },
  {
   "cell_type": "markdown",
   "metadata": {},
   "source": [
    "We present this peace of code to create the baseline for the competition, and as an example of how to deal with these kind of problems. The main goals are that you:\n",
    "\n",
    "1. Explore the data and learn from it\n",
    "1. Try different models and see which one fits the best the given data\n",
    "1. Get a higher score than the given one in the current baseline example\n",
    "1. Try to get the highest score in the class :)"
   ]
  },
  {
   "cell_type": "code",
   "execution_count": 1,
   "metadata": {},
   "outputs": [],
   "source": [
    "# Import the required packages\n",
    "import os\n",
    "\n",
    "import numpy as np\n",
    "import pandas as pd\n",
    "import matplotlib.pyplot as plt\n",
    "import math"
   ]
  },
  {
   "cell_type": "markdown",
   "metadata": {},
   "source": [
    "## Read Data"
   ]
  },
  {
   "cell_type": "code",
   "execution_count": 2,
   "metadata": {},
   "outputs": [],
   "source": [
    "train_df = pd.read_csv(\"../data/travel_insurance_prediction_train.csv\")\n",
    "test_df = pd.read_csv(\"../data/travel_insurance_prediction_test.csv\")"
   ]
  },
  {
   "cell_type": "markdown",
   "metadata": {},
   "source": [
    "## Explore the Data\n",
    "\n",
    "Is your task to explore the data, do analysis over it and get insights, then use those insights to better pick a model."
   ]
  },
  {
   "cell_type": "code",
   "execution_count": 3,
   "metadata": {},
   "outputs": [
    {
     "data": {
      "text/html": [
       "<div>\n",
       "<style scoped>\n",
       "    .dataframe tbody tr th:only-of-type {\n",
       "        vertical-align: middle;\n",
       "    }\n",
       "\n",
       "    .dataframe tbody tr th {\n",
       "        vertical-align: top;\n",
       "    }\n",
       "\n",
       "    .dataframe thead th {\n",
       "        text-align: right;\n",
       "    }\n",
       "</style>\n",
       "<table border=\"1\" class=\"dataframe\">\n",
       "  <thead>\n",
       "    <tr style=\"text-align: right;\">\n",
       "      <th></th>\n",
       "      <th>Customer</th>\n",
       "      <th>Age</th>\n",
       "      <th>Employment Type</th>\n",
       "      <th>GraduateOrNot</th>\n",
       "      <th>AnnualIncome</th>\n",
       "      <th>FamilyMembers</th>\n",
       "      <th>ChronicDiseases</th>\n",
       "      <th>FrequentFlyer</th>\n",
       "      <th>EverTravelledAbroad</th>\n",
       "      <th>TravelInsurance</th>\n",
       "    </tr>\n",
       "  </thead>\n",
       "  <tbody>\n",
       "    <tr>\n",
       "      <th>0</th>\n",
       "      <td>1</td>\n",
       "      <td>33</td>\n",
       "      <td>Private Sector/Self Employed</td>\n",
       "      <td>Yes</td>\n",
       "      <td>550000</td>\n",
       "      <td>6</td>\n",
       "      <td>0</td>\n",
       "      <td>No</td>\n",
       "      <td>No</td>\n",
       "      <td>1</td>\n",
       "    </tr>\n",
       "    <tr>\n",
       "      <th>1</th>\n",
       "      <td>2</td>\n",
       "      <td>28</td>\n",
       "      <td>Private Sector/Self Employed</td>\n",
       "      <td>Yes</td>\n",
       "      <td>800000</td>\n",
       "      <td>7</td>\n",
       "      <td>0</td>\n",
       "      <td>Yes</td>\n",
       "      <td>No</td>\n",
       "      <td>0</td>\n",
       "    </tr>\n",
       "    <tr>\n",
       "      <th>2</th>\n",
       "      <td>3</td>\n",
       "      <td>31</td>\n",
       "      <td>Private Sector/Self Employed</td>\n",
       "      <td>Yes</td>\n",
       "      <td>1250000</td>\n",
       "      <td>4</td>\n",
       "      <td>0</td>\n",
       "      <td>No</td>\n",
       "      <td>No</td>\n",
       "      <td>0</td>\n",
       "    </tr>\n",
       "    <tr>\n",
       "      <th>3</th>\n",
       "      <td>4</td>\n",
       "      <td>31</td>\n",
       "      <td>Government Sector</td>\n",
       "      <td>No</td>\n",
       "      <td>300000</td>\n",
       "      <td>7</td>\n",
       "      <td>0</td>\n",
       "      <td>No</td>\n",
       "      <td>No</td>\n",
       "      <td>0</td>\n",
       "    </tr>\n",
       "    <tr>\n",
       "      <th>4</th>\n",
       "      <td>5</td>\n",
       "      <td>28</td>\n",
       "      <td>Private Sector/Self Employed</td>\n",
       "      <td>Yes</td>\n",
       "      <td>1250000</td>\n",
       "      <td>3</td>\n",
       "      <td>0</td>\n",
       "      <td>No</td>\n",
       "      <td>No</td>\n",
       "      <td>0</td>\n",
       "    </tr>\n",
       "  </tbody>\n",
       "</table>\n",
       "</div>"
      ],
      "text/plain": [
       "   Customer  Age               Employment Type GraduateOrNot  AnnualIncome  \\\n",
       "0         1   33  Private Sector/Self Employed           Yes        550000   \n",
       "1         2   28  Private Sector/Self Employed           Yes        800000   \n",
       "2         3   31  Private Sector/Self Employed           Yes       1250000   \n",
       "3         4   31             Government Sector            No        300000   \n",
       "4         5   28  Private Sector/Self Employed           Yes       1250000   \n",
       "\n",
       "   FamilyMembers  ChronicDiseases FrequentFlyer EverTravelledAbroad  \\\n",
       "0              6                0            No                  No   \n",
       "1              7                0           Yes                  No   \n",
       "2              4                0            No                  No   \n",
       "3              7                0            No                  No   \n",
       "4              3                0            No                  No   \n",
       "\n",
       "   TravelInsurance  \n",
       "0                1  \n",
       "1                0  \n",
       "2                0  \n",
       "3                0  \n",
       "4                0  "
      ]
     },
     "execution_count": 3,
     "metadata": {},
     "output_type": "execute_result"
    }
   ],
   "source": [
    "train_df.head()"
   ]
  },
  {
   "cell_type": "code",
   "execution_count": 4,
   "metadata": {},
   "outputs": [
    {
     "data": {
      "text/html": [
       "<div>\n",
       "<style scoped>\n",
       "    .dataframe tbody tr th:only-of-type {\n",
       "        vertical-align: middle;\n",
       "    }\n",
       "\n",
       "    .dataframe tbody tr th {\n",
       "        vertical-align: top;\n",
       "    }\n",
       "\n",
       "    .dataframe thead th {\n",
       "        text-align: right;\n",
       "    }\n",
       "</style>\n",
       "<table border=\"1\" class=\"dataframe\">\n",
       "  <thead>\n",
       "    <tr style=\"text-align: right;\">\n",
       "      <th></th>\n",
       "      <th>Customer</th>\n",
       "      <th>Age</th>\n",
       "      <th>Employment Type</th>\n",
       "      <th>GraduateOrNot</th>\n",
       "      <th>AnnualIncome</th>\n",
       "      <th>FamilyMembers</th>\n",
       "      <th>ChronicDiseases</th>\n",
       "      <th>FrequentFlyer</th>\n",
       "      <th>EverTravelledAbroad</th>\n",
       "    </tr>\n",
       "  </thead>\n",
       "  <tbody>\n",
       "    <tr>\n",
       "      <th>0</th>\n",
       "      <td>1491</td>\n",
       "      <td>29</td>\n",
       "      <td>Private Sector/Self Employed</td>\n",
       "      <td>Yes</td>\n",
       "      <td>1100000</td>\n",
       "      <td>4</td>\n",
       "      <td>0</td>\n",
       "      <td>No</td>\n",
       "      <td>No</td>\n",
       "    </tr>\n",
       "    <tr>\n",
       "      <th>1</th>\n",
       "      <td>1492</td>\n",
       "      <td>28</td>\n",
       "      <td>Private Sector/Self Employed</td>\n",
       "      <td>Yes</td>\n",
       "      <td>750000</td>\n",
       "      <td>5</td>\n",
       "      <td>1</td>\n",
       "      <td>Yes</td>\n",
       "      <td>No</td>\n",
       "    </tr>\n",
       "    <tr>\n",
       "      <th>2</th>\n",
       "      <td>1493</td>\n",
       "      <td>31</td>\n",
       "      <td>Government Sector</td>\n",
       "      <td>Yes</td>\n",
       "      <td>1500000</td>\n",
       "      <td>4</td>\n",
       "      <td>0</td>\n",
       "      <td>Yes</td>\n",
       "      <td>Yes</td>\n",
       "    </tr>\n",
       "    <tr>\n",
       "      <th>3</th>\n",
       "      <td>1494</td>\n",
       "      <td>28</td>\n",
       "      <td>Private Sector/Self Employed</td>\n",
       "      <td>Yes</td>\n",
       "      <td>1400000</td>\n",
       "      <td>3</td>\n",
       "      <td>0</td>\n",
       "      <td>No</td>\n",
       "      <td>Yes</td>\n",
       "    </tr>\n",
       "    <tr>\n",
       "      <th>4</th>\n",
       "      <td>1495</td>\n",
       "      <td>33</td>\n",
       "      <td>Private Sector/Self Employed</td>\n",
       "      <td>Yes</td>\n",
       "      <td>1500000</td>\n",
       "      <td>4</td>\n",
       "      <td>0</td>\n",
       "      <td>Yes</td>\n",
       "      <td>Yes</td>\n",
       "    </tr>\n",
       "  </tbody>\n",
       "</table>\n",
       "</div>"
      ],
      "text/plain": [
       "   Customer  Age               Employment Type GraduateOrNot  AnnualIncome  \\\n",
       "0      1491   29  Private Sector/Self Employed           Yes       1100000   \n",
       "1      1492   28  Private Sector/Self Employed           Yes        750000   \n",
       "2      1493   31             Government Sector           Yes       1500000   \n",
       "3      1494   28  Private Sector/Self Employed           Yes       1400000   \n",
       "4      1495   33  Private Sector/Self Employed           Yes       1500000   \n",
       "\n",
       "   FamilyMembers  ChronicDiseases FrequentFlyer EverTravelledAbroad  \n",
       "0              4                0            No                  No  \n",
       "1              5                1           Yes                  No  \n",
       "2              4                0           Yes                 Yes  \n",
       "3              3                0            No                 Yes  \n",
       "4              4                0           Yes                 Yes  "
      ]
     },
     "execution_count": 4,
     "metadata": {},
     "output_type": "execute_result"
    }
   ],
   "source": [
    "test_df.head()"
   ]
  },
  {
   "cell_type": "markdown",
   "metadata": {},
   "source": [
    "**TravelInsurance** is the column that we should predict. That column is not present in the test set."
   ]
  },
  {
   "cell_type": "code",
   "execution_count": 5,
   "metadata": {},
   "outputs": [
    {
     "name": "stdout",
     "output_type": "stream",
     "text": [
      "<class 'pandas.core.frame.DataFrame'>\n",
      "RangeIndex: 1490 entries, 0 to 1489\n",
      "Data columns (total 10 columns):\n",
      " #   Column               Non-Null Count  Dtype \n",
      "---  ------               --------------  ----- \n",
      " 0   Customer             1490 non-null   int64 \n",
      " 1   Age                  1490 non-null   int64 \n",
      " 2   Employment Type      1490 non-null   object\n",
      " 3   GraduateOrNot        1490 non-null   object\n",
      " 4   AnnualIncome         1490 non-null   int64 \n",
      " 5   FamilyMembers        1490 non-null   int64 \n",
      " 6   ChronicDiseases      1490 non-null   int64 \n",
      " 7   FrequentFlyer        1490 non-null   object\n",
      " 8   EverTravelledAbroad  1490 non-null   object\n",
      " 9   TravelInsurance      1490 non-null   int64 \n",
      "dtypes: int64(6), object(4)\n",
      "memory usage: 116.5+ KB\n"
     ]
    }
   ],
   "source": [
    "train_df.info()"
   ]
  },
  {
   "cell_type": "code",
   "execution_count": 6,
   "metadata": {},
   "outputs": [
    {
     "name": "stdout",
     "output_type": "stream",
     "text": [
      "<class 'pandas.core.frame.DataFrame'>\n",
      "RangeIndex: 497 entries, 0 to 496\n",
      "Data columns (total 9 columns):\n",
      " #   Column               Non-Null Count  Dtype \n",
      "---  ------               --------------  ----- \n",
      " 0   Customer             497 non-null    int64 \n",
      " 1   Age                  497 non-null    int64 \n",
      " 2   Employment Type      497 non-null    object\n",
      " 3   GraduateOrNot        497 non-null    object\n",
      " 4   AnnualIncome         497 non-null    int64 \n",
      " 5   FamilyMembers        497 non-null    int64 \n",
      " 6   ChronicDiseases      497 non-null    int64 \n",
      " 7   FrequentFlyer        497 non-null    object\n",
      " 8   EverTravelledAbroad  497 non-null    object\n",
      "dtypes: int64(5), object(4)\n",
      "memory usage: 35.1+ KB\n"
     ]
    }
   ],
   "source": [
    "test_df.info()"
   ]
  },
  {
   "cell_type": "code",
   "execution_count": 7,
   "metadata": {},
   "outputs": [
    {
     "data": {
      "text/html": [
       "<div>\n",
       "<style scoped>\n",
       "    .dataframe tbody tr th:only-of-type {\n",
       "        vertical-align: middle;\n",
       "    }\n",
       "\n",
       "    .dataframe tbody tr th {\n",
       "        vertical-align: top;\n",
       "    }\n",
       "\n",
       "    .dataframe thead th {\n",
       "        text-align: right;\n",
       "    }\n",
       "</style>\n",
       "<table border=\"1\" class=\"dataframe\">\n",
       "  <thead>\n",
       "    <tr style=\"text-align: right;\">\n",
       "      <th></th>\n",
       "      <th>Customer</th>\n",
       "      <th>Age</th>\n",
       "      <th>AnnualIncome</th>\n",
       "      <th>FamilyMembers</th>\n",
       "      <th>ChronicDiseases</th>\n",
       "      <th>TravelInsurance</th>\n",
       "    </tr>\n",
       "  </thead>\n",
       "  <tbody>\n",
       "    <tr>\n",
       "      <th>count</th>\n",
       "      <td>1490.000000</td>\n",
       "      <td>1490.000000</td>\n",
       "      <td>1.490000e+03</td>\n",
       "      <td>1490.000000</td>\n",
       "      <td>1490.000000</td>\n",
       "      <td>1490.000000</td>\n",
       "    </tr>\n",
       "    <tr>\n",
       "      <th>mean</th>\n",
       "      <td>745.500000</td>\n",
       "      <td>29.667114</td>\n",
       "      <td>9.278188e+05</td>\n",
       "      <td>4.777181</td>\n",
       "      <td>0.275839</td>\n",
       "      <td>0.357047</td>\n",
       "    </tr>\n",
       "    <tr>\n",
       "      <th>std</th>\n",
       "      <td>430.270264</td>\n",
       "      <td>2.880994</td>\n",
       "      <td>3.811715e+05</td>\n",
       "      <td>1.640248</td>\n",
       "      <td>0.447086</td>\n",
       "      <td>0.479290</td>\n",
       "    </tr>\n",
       "    <tr>\n",
       "      <th>min</th>\n",
       "      <td>1.000000</td>\n",
       "      <td>25.000000</td>\n",
       "      <td>3.000000e+05</td>\n",
       "      <td>2.000000</td>\n",
       "      <td>0.000000</td>\n",
       "      <td>0.000000</td>\n",
       "    </tr>\n",
       "    <tr>\n",
       "      <th>25%</th>\n",
       "      <td>373.250000</td>\n",
       "      <td>28.000000</td>\n",
       "      <td>6.000000e+05</td>\n",
       "      <td>4.000000</td>\n",
       "      <td>0.000000</td>\n",
       "      <td>0.000000</td>\n",
       "    </tr>\n",
       "    <tr>\n",
       "      <th>50%</th>\n",
       "      <td>745.500000</td>\n",
       "      <td>29.000000</td>\n",
       "      <td>9.000000e+05</td>\n",
       "      <td>5.000000</td>\n",
       "      <td>0.000000</td>\n",
       "      <td>0.000000</td>\n",
       "    </tr>\n",
       "    <tr>\n",
       "      <th>75%</th>\n",
       "      <td>1117.750000</td>\n",
       "      <td>32.000000</td>\n",
       "      <td>1.250000e+06</td>\n",
       "      <td>6.000000</td>\n",
       "      <td>1.000000</td>\n",
       "      <td>1.000000</td>\n",
       "    </tr>\n",
       "    <tr>\n",
       "      <th>max</th>\n",
       "      <td>1490.000000</td>\n",
       "      <td>35.000000</td>\n",
       "      <td>1.800000e+06</td>\n",
       "      <td>9.000000</td>\n",
       "      <td>1.000000</td>\n",
       "      <td>1.000000</td>\n",
       "    </tr>\n",
       "  </tbody>\n",
       "</table>\n",
       "</div>"
      ],
      "text/plain": [
       "          Customer          Age  AnnualIncome  FamilyMembers  ChronicDiseases  \\\n",
       "count  1490.000000  1490.000000  1.490000e+03    1490.000000      1490.000000   \n",
       "mean    745.500000    29.667114  9.278188e+05       4.777181         0.275839   \n",
       "std     430.270264     2.880994  3.811715e+05       1.640248         0.447086   \n",
       "min       1.000000    25.000000  3.000000e+05       2.000000         0.000000   \n",
       "25%     373.250000    28.000000  6.000000e+05       4.000000         0.000000   \n",
       "50%     745.500000    29.000000  9.000000e+05       5.000000         0.000000   \n",
       "75%    1117.750000    32.000000  1.250000e+06       6.000000         1.000000   \n",
       "max    1490.000000    35.000000  1.800000e+06       9.000000         1.000000   \n",
       "\n",
       "       TravelInsurance  \n",
       "count      1490.000000  \n",
       "mean          0.357047  \n",
       "std           0.479290  \n",
       "min           0.000000  \n",
       "25%           0.000000  \n",
       "50%           0.000000  \n",
       "75%           1.000000  \n",
       "max           1.000000  "
      ]
     },
     "execution_count": 7,
     "metadata": {},
     "output_type": "execute_result"
    }
   ],
   "source": [
    "train_df.describe()"
   ]
  },
  {
   "cell_type": "code",
   "execution_count": 8,
   "metadata": {},
   "outputs": [
    {
     "data": {
      "text/html": [
       "<div>\n",
       "<style scoped>\n",
       "    .dataframe tbody tr th:only-of-type {\n",
       "        vertical-align: middle;\n",
       "    }\n",
       "\n",
       "    .dataframe tbody tr th {\n",
       "        vertical-align: top;\n",
       "    }\n",
       "\n",
       "    .dataframe thead th {\n",
       "        text-align: right;\n",
       "    }\n",
       "</style>\n",
       "<table border=\"1\" class=\"dataframe\">\n",
       "  <thead>\n",
       "    <tr style=\"text-align: right;\">\n",
       "      <th></th>\n",
       "      <th>Customer</th>\n",
       "      <th>Age</th>\n",
       "      <th>AnnualIncome</th>\n",
       "      <th>FamilyMembers</th>\n",
       "      <th>ChronicDiseases</th>\n",
       "    </tr>\n",
       "  </thead>\n",
       "  <tbody>\n",
       "    <tr>\n",
       "      <th>count</th>\n",
       "      <td>497.000000</td>\n",
       "      <td>497.000000</td>\n",
       "      <td>4.970000e+02</td>\n",
       "      <td>497.00000</td>\n",
       "      <td>497.000000</td>\n",
       "    </tr>\n",
       "    <tr>\n",
       "      <th>mean</th>\n",
       "      <td>1739.000000</td>\n",
       "      <td>29.599598</td>\n",
       "      <td>9.475855e+05</td>\n",
       "      <td>4.68008</td>\n",
       "      <td>0.283702</td>\n",
       "    </tr>\n",
       "    <tr>\n",
       "      <th>std</th>\n",
       "      <td>143.615807</td>\n",
       "      <td>3.010506</td>\n",
       "      <td>3.635818e+05</td>\n",
       "      <td>1.51347</td>\n",
       "      <td>0.451248</td>\n",
       "    </tr>\n",
       "    <tr>\n",
       "      <th>min</th>\n",
       "      <td>1491.000000</td>\n",
       "      <td>25.000000</td>\n",
       "      <td>3.000000e+05</td>\n",
       "      <td>2.00000</td>\n",
       "      <td>0.000000</td>\n",
       "    </tr>\n",
       "    <tr>\n",
       "      <th>25%</th>\n",
       "      <td>1615.000000</td>\n",
       "      <td>28.000000</td>\n",
       "      <td>6.500000e+05</td>\n",
       "      <td>4.00000</td>\n",
       "      <td>0.000000</td>\n",
       "    </tr>\n",
       "    <tr>\n",
       "      <th>50%</th>\n",
       "      <td>1739.000000</td>\n",
       "      <td>29.000000</td>\n",
       "      <td>9.500000e+05</td>\n",
       "      <td>4.00000</td>\n",
       "      <td>0.000000</td>\n",
       "    </tr>\n",
       "    <tr>\n",
       "      <th>75%</th>\n",
       "      <td>1863.000000</td>\n",
       "      <td>32.000000</td>\n",
       "      <td>1.250000e+06</td>\n",
       "      <td>6.00000</td>\n",
       "      <td>1.000000</td>\n",
       "    </tr>\n",
       "    <tr>\n",
       "      <th>max</th>\n",
       "      <td>1987.000000</td>\n",
       "      <td>35.000000</td>\n",
       "      <td>1.750000e+06</td>\n",
       "      <td>9.00000</td>\n",
       "      <td>1.000000</td>\n",
       "    </tr>\n",
       "  </tbody>\n",
       "</table>\n",
       "</div>"
      ],
      "text/plain": [
       "          Customer         Age  AnnualIncome  FamilyMembers  ChronicDiseases\n",
       "count   497.000000  497.000000  4.970000e+02      497.00000       497.000000\n",
       "mean   1739.000000   29.599598  9.475855e+05        4.68008         0.283702\n",
       "std     143.615807    3.010506  3.635818e+05        1.51347         0.451248\n",
       "min    1491.000000   25.000000  3.000000e+05        2.00000         0.000000\n",
       "25%    1615.000000   28.000000  6.500000e+05        4.00000         0.000000\n",
       "50%    1739.000000   29.000000  9.500000e+05        4.00000         0.000000\n",
       "75%    1863.000000   32.000000  1.250000e+06        6.00000         1.000000\n",
       "max    1987.000000   35.000000  1.750000e+06        9.00000         1.000000"
      ]
     },
     "execution_count": 8,
     "metadata": {},
     "output_type": "execute_result"
    }
   ],
   "source": [
    "test_df.describe()"
   ]
  },
  {
   "cell_type": "markdown",
   "metadata": {},
   "source": [
    "## Analizando los features"
   ]
  },
  {
   "cell_type": "markdown",
   "metadata": {},
   "source": [
    "### Desbalance de la clase objetivo"
   ]
  },
  {
   "cell_type": "markdown",
   "metadata": {},
   "source": [
    "Como algunos clasificadores no funcionan bien con desbalance en el feature de target, analizamos si existe tal desbalance en el conjunto de datos. Vemos que en este caso, no hay un desbalance significativo (que sería de un orden de magnitud hacia arriba, según [este artículo](https://towardsdatascience.com/handling-imbalanced-datasets-in-machine-learning-7a0e84220f28))"
   ]
  },
  {
   "cell_type": "code",
   "execution_count": 9,
   "metadata": {},
   "outputs": [
    {
     "data": {
      "text/plain": [
       "0    0.642953\n",
       "1    0.357047\n",
       "Name: TravelInsurance, dtype: float64"
      ]
     },
     "execution_count": 9,
     "metadata": {},
     "output_type": "execute_result"
    }
   ],
   "source": [
    "train_df[\"TravelInsurance\"].value_counts(normalize=True)"
   ]
  },
  {
   "cell_type": "code",
   "execution_count": 10,
   "metadata": {},
   "outputs": [
    {
     "data": {
      "text/plain": [
       "0    958\n",
       "1    532\n",
       "Name: TravelInsurance, dtype: int64"
      ]
     },
     "execution_count": 10,
     "metadata": {},
     "output_type": "execute_result"
    }
   ],
   "source": [
    "train_df[\"TravelInsurance\"].value_counts()"
   ]
  },
  {
   "cell_type": "code",
   "execution_count": 11,
   "metadata": {},
   "outputs": [
    {
     "data": {
      "image/png": "[encoded data removed]",
      "text/plain": [
       "<Figure size 432x288 with 1 Axes>"
      ]
     },
     "metadata": {
      "needs_background": "light"
     },
     "output_type": "display_data"
    }
   ],
   "source": [
    "train_df[\"TravelInsurance\"].value_counts().plot(kind=\"bar\")\n",
    "plt.show()"
   ]
  },
  {
   "cell_type": "code",
   "execution_count": 12,
   "metadata": {},
   "outputs": [],
   "source": [
    "annual_income_unique = train_df[\"AnnualIncome\"].unique()"
   ]
  },
  {
   "cell_type": "code",
   "execution_count": 13,
   "metadata": {},
   "outputs": [
    {
     "data": {
      "text/plain": [
       "array([ 300000,  350000,  400000,  450000,  500000,  550000,  600000,\n",
       "        650000,  700000,  750000,  800000,  850000,  900000,  950000,\n",
       "       1000000, 1050000, 1100000, 1150000, 1200000, 1250000, 1300000,\n",
       "       1350000, 1400000, 1450000, 1500000, 1550000, 1650000, 1700000,\n",
       "       1750000, 1800000], dtype=int64)"
      ]
     },
     "execution_count": 13,
     "metadata": {},
     "output_type": "execute_result"
    }
   ],
   "source": [
    "annual_income_unique.sort()\n",
    "annual_income_unique"
   ]
  },
  {
   "cell_type": "markdown",
   "metadata": {},
   "source": [
    "Probablemente podamos poner el income y las edades en buckets o en categorías. También podríamos armar categorías para \"familias numerosas\""
   ]
  },
  {
   "cell_type": "code",
   "execution_count": 14,
   "metadata": {},
   "outputs": [],
   "source": [
    "train_df[\"IncomeGroup\"] = pd.qcut(train_df[\"AnnualIncome\"], 5, labels=[\"Lower\", \"Mid-low\", \"Mid\", \"Mid-high\", \"High\"])\n",
    "test_df[\"IncomeGroup\"] = pd.qcut(test_df[\"AnnualIncome\"], 5, labels=[\"Lower\", \"Mid-low\", \"Mid\", \"Mid-high\", \"High\"])"
   ]
  },
  {
   "cell_type": "code",
   "execution_count": 15,
   "metadata": {
    "scrolled": true
   },
   "outputs": [
    {
     "data": {
      "text/plain": [
       "Lower       346\n",
       "Mid-low     328\n",
       "Mid         297\n",
       "High        267\n",
       "Mid-high    252\n",
       "Name: IncomeGroup, dtype: int64"
      ]
     },
     "execution_count": 15,
     "metadata": {},
     "output_type": "execute_result"
    }
   ],
   "source": [
    "train_df[\"IncomeGroup\"].value_counts()"
   ]
  },
  {
   "cell_type": "markdown",
   "metadata": {},
   "source": [
    "### Agrupando por tipo de familia"
   ]
  },
  {
   "cell_type": "markdown",
   "metadata": {},
   "source": [
    "Probablemente podamos obtener mejores resultados al clasificar las familias según su tamaño"
   ]
  },
  {
   "cell_type": "code",
   "execution_count": 16,
   "metadata": {},
   "outputs": [],
   "source": [
    "family_bins = [0, 2, 4, np.inf]\n",
    "family_labels = [\"Nucleus\", \"Small\", \"Big\"]\n",
    "train_df[\"FamilyType\"] = pd.cut(train_df[\"FamilyMembers\"], family_bins, labels=family_labels)\n",
    "test_df[\"FamilyType\"] = pd.cut(test_df[\"FamilyMembers\"], family_bins, labels=family_labels)"
   ]
  },
  {
   "cell_type": "code",
   "execution_count": 17,
   "metadata": {},
   "outputs": [
    {
     "data": {
      "text/html": [
       "<div>\n",
       "<style scoped>\n",
       "    .dataframe tbody tr th:only-of-type {\n",
       "        vertical-align: middle;\n",
       "    }\n",
       "\n",
       "    .dataframe tbody tr th {\n",
       "        vertical-align: top;\n",
       "    }\n",
       "\n",
       "    .dataframe thead th {\n",
       "        text-align: right;\n",
       "    }\n",
       "</style>\n",
       "<table border=\"1\" class=\"dataframe\">\n",
       "  <thead>\n",
       "    <tr style=\"text-align: right;\">\n",
       "      <th></th>\n",
       "      <th>FamilyType</th>\n",
       "      <th>FamilyMembers</th>\n",
       "    </tr>\n",
       "  </thead>\n",
       "  <tbody>\n",
       "    <tr>\n",
       "      <th>0</th>\n",
       "      <td>Big</td>\n",
       "      <td>6</td>\n",
       "    </tr>\n",
       "    <tr>\n",
       "      <th>1</th>\n",
       "      <td>Big</td>\n",
       "      <td>7</td>\n",
       "    </tr>\n",
       "    <tr>\n",
       "      <th>2</th>\n",
       "      <td>Small</td>\n",
       "      <td>4</td>\n",
       "    </tr>\n",
       "    <tr>\n",
       "      <th>3</th>\n",
       "      <td>Big</td>\n",
       "      <td>7</td>\n",
       "    </tr>\n",
       "    <tr>\n",
       "      <th>4</th>\n",
       "      <td>Small</td>\n",
       "      <td>3</td>\n",
       "    </tr>\n",
       "    <tr>\n",
       "      <th>...</th>\n",
       "      <td>...</td>\n",
       "      <td>...</td>\n",
       "    </tr>\n",
       "    <tr>\n",
       "      <th>1485</th>\n",
       "      <td>Big</td>\n",
       "      <td>5</td>\n",
       "    </tr>\n",
       "    <tr>\n",
       "      <th>1486</th>\n",
       "      <td>Small</td>\n",
       "      <td>3</td>\n",
       "    </tr>\n",
       "    <tr>\n",
       "      <th>1487</th>\n",
       "      <td>Big</td>\n",
       "      <td>5</td>\n",
       "    </tr>\n",
       "    <tr>\n",
       "      <th>1488</th>\n",
       "      <td>Big</td>\n",
       "      <td>5</td>\n",
       "    </tr>\n",
       "    <tr>\n",
       "      <th>1489</th>\n",
       "      <td>Small</td>\n",
       "      <td>4</td>\n",
       "    </tr>\n",
       "  </tbody>\n",
       "</table>\n",
       "<p>1490 rows × 2 columns</p>\n",
       "</div>"
      ],
      "text/plain": [
       "     FamilyType  FamilyMembers\n",
       "0           Big              6\n",
       "1           Big              7\n",
       "2         Small              4\n",
       "3           Big              7\n",
       "4         Small              3\n",
       "...         ...            ...\n",
       "1485        Big              5\n",
       "1486      Small              3\n",
       "1487        Big              5\n",
       "1488        Big              5\n",
       "1489      Small              4\n",
       "\n",
       "[1490 rows x 2 columns]"
      ]
     },
     "execution_count": 17,
     "metadata": {},
     "output_type": "execute_result"
    }
   ],
   "source": [
    "train_df[[\"FamilyType\", \"FamilyMembers\"]]"
   ]
  },
  {
   "cell_type": "code",
   "execution_count": 18,
   "metadata": {},
   "outputs": [
    {
     "data": {
      "text/plain": [
       "<AxesSubplot:>"
      ]
     },
     "execution_count": 18,
     "metadata": {},
     "output_type": "execute_result"
    },
    {
     "data": {
      "image/png": "[encoded data removed]",
      "text/plain": [
       "<Figure size 432x288 with 1 Axes>"
      ]
     },
     "metadata": {
      "needs_background": "light"
     },
     "output_type": "display_data"
    }
   ],
   "source": [
    "train_df[\"FamilyType\"].hist()"
   ]
  },
  {
   "cell_type": "markdown",
   "metadata": {},
   "source": [
    "### Un nuevo feature: ingresos por encima de la media etaria"
   ]
  },
  {
   "cell_type": "code",
   "execution_count": 19,
   "metadata": {},
   "outputs": [],
   "source": [
    "train_df[\"AgeGroups\"] = pd.cut(train_df[\"Age\"], [-np.inf, 27, 32, np.inf], labels=[\"0_26\", \"27_32\", \"33+\"])\n",
    "test_df[\"AgeGroups\"] = pd.cut(test_df[\"Age\"], [-np.inf, 27, 32, np.inf], labels=[\"0_26\", \"27_32\", \"33+\"])"
   ]
  },
  {
   "cell_type": "code",
   "execution_count": 20,
   "metadata": {},
   "outputs": [],
   "source": [
    "income_mean_by_age_group = train_df[[\"AgeGroups\", \"AnnualIncome\"]].groupby(by=\"AgeGroups\").mean(\"AnnualIncome\")"
   ]
  },
  {
   "cell_type": "code",
   "execution_count": 21,
   "metadata": {},
   "outputs": [
    {
     "data": {
      "text/html": [
       "<div>\n",
       "<style scoped>\n",
       "    .dataframe tbody tr th:only-of-type {\n",
       "        vertical-align: middle;\n",
       "    }\n",
       "\n",
       "    .dataframe tbody tr th {\n",
       "        vertical-align: top;\n",
       "    }\n",
       "\n",
       "    .dataframe thead th {\n",
       "        text-align: right;\n",
       "    }\n",
       "</style>\n",
       "<table border=\"1\" class=\"dataframe\">\n",
       "  <thead>\n",
       "    <tr style=\"text-align: right;\">\n",
       "      <th></th>\n",
       "      <th>AnnualIncome</th>\n",
       "    </tr>\n",
       "    <tr>\n",
       "      <th>AgeGroups</th>\n",
       "      <th></th>\n",
       "    </tr>\n",
       "  </thead>\n",
       "  <tbody>\n",
       "    <tr>\n",
       "      <th>0_26</th>\n",
       "      <td>1.025316e+06</td>\n",
       "    </tr>\n",
       "    <tr>\n",
       "      <th>27_32</th>\n",
       "      <td>8.615713e+05</td>\n",
       "    </tr>\n",
       "    <tr>\n",
       "      <th>33+</th>\n",
       "      <td>9.946176e+05</td>\n",
       "    </tr>\n",
       "  </tbody>\n",
       "</table>\n",
       "</div>"
      ],
      "text/plain": [
       "           AnnualIncome\n",
       "AgeGroups              \n",
       "0_26       1.025316e+06\n",
       "27_32      8.615713e+05\n",
       "33+        9.946176e+05"
      ]
     },
     "execution_count": 21,
     "metadata": {},
     "output_type": "execute_result"
    }
   ],
   "source": [
    "income_mean_by_age_group"
   ]
  },
  {
   "cell_type": "code",
   "execution_count": 22,
   "metadata": {},
   "outputs": [
    {
     "data": {
      "text/plain": [
       "AnnualIncome    1.025316e+06\n",
       "Name: 0_26, dtype: float64"
      ]
     },
     "execution_count": 22,
     "metadata": {},
     "output_type": "execute_result"
    }
   ],
   "source": [
    "income_mean_by_age_group.loc[\"0_26\"]"
   ]
  },
  {
   "cell_type": "code",
   "execution_count": 23,
   "metadata": {},
   "outputs": [
    {
     "data": {
      "image/png": "[encoded data removed]",
      "text/plain": [
       "<Figure size 432x288 with 1 Axes>"
      ]
     },
     "metadata": {
      "needs_background": "light"
     },
     "output_type": "display_data"
    }
   ],
   "source": [
    "income_mean_by_age_group.plot()\n",
    "plt.show()"
   ]
  },
  {
   "cell_type": "code",
   "execution_count": 24,
   "metadata": {},
   "outputs": [],
   "source": [
    "train_df[\"GroupMeanIncome\"] = income_mean_by_age_group[\"AnnualIncome\"][train_df[\"AgeGroups\"]].values\n",
    "test_df[\"GroupMeanIncome\"] = income_mean_by_age_group[\"AnnualIncome\"][test_df[\"AgeGroups\"]].values"
   ]
  },
  {
   "cell_type": "code",
   "execution_count": 25,
   "metadata": {},
   "outputs": [],
   "source": [
    "train_df[\"AgeGroupIncomeFromMean\"] = train_df[\"AnnualIncome\"] - income_mean_by_age_group[\"AnnualIncome\"][train_df[\"AgeGroups\"]].values\n",
    "test_df[\"AgeGroupIncomeFromMean\"] = test_df[\"AnnualIncome\"] - income_mean_by_age_group[\"AnnualIncome\"][test_df[\"AgeGroups\"]].values"
   ]
  },
  {
   "cell_type": "code",
   "execution_count": 26,
   "metadata": {},
   "outputs": [],
   "source": [
    "train_df[\"AgeGroupAboveMean\"] = pd.qcut(train_df[\"AgeGroupIncomeFromMean\"], 5, labels=[1, 2, 3, 4, 5])\n",
    "test_df[\"AgeGroupAboveMean\"] = pd.qcut(test_df[\"AgeGroupIncomeFromMean\"], 5, labels=[1, 2, 3, 4, 5])"
   ]
  },
  {
   "cell_type": "code",
   "execution_count": 27,
   "metadata": {},
   "outputs": [
    {
     "data": {
      "text/plain": [
       "<AxesSubplot:>"
      ]
     },
     "execution_count": 27,
     "metadata": {},
     "output_type": "execute_result"
    },
    {
     "data": {
      "image/png": "[encoded data removed]",
      "text/plain": [
       "<Figure size 432x288 with 1 Axes>"
      ]
     },
     "metadata": {
      "needs_background": "light"
     },
     "output_type": "display_data"
    }
   ],
   "source": [
    "train_df[\"AgeGroupIncomeFromMean\"].hist()"
   ]
  },
  {
   "cell_type": "code",
   "execution_count": 28,
   "metadata": {},
   "outputs": [
    {
     "data": {
      "text/plain": [
       "<AxesSubplot:>"
      ]
     },
     "execution_count": 28,
     "metadata": {},
     "output_type": "execute_result"
    },
    {
     "data": {
      "image/png": "[encoded data removed]",
      "text/plain": [
       "<Figure size 432x288 with 1 Axes>"
      ]
     },
     "metadata": {
      "needs_background": "light"
     },
     "output_type": "display_data"
    }
   ],
   "source": [
    "test_df[\"AgeGroupIncomeFromMean\"].hist()"
   ]
  },
  {
   "cell_type": "code",
   "execution_count": 29,
   "metadata": {},
   "outputs": [
    {
     "data": {
      "text/html": [
       "<div>\n",
       "<style scoped>\n",
       "    .dataframe tbody tr th:only-of-type {\n",
       "        vertical-align: middle;\n",
       "    }\n",
       "\n",
       "    .dataframe tbody tr th {\n",
       "        vertical-align: top;\n",
       "    }\n",
       "\n",
       "    .dataframe thead th {\n",
       "        text-align: right;\n",
       "    }\n",
       "</style>\n",
       "<table border=\"1\" class=\"dataframe\">\n",
       "  <thead>\n",
       "    <tr style=\"text-align: right;\">\n",
       "      <th></th>\n",
       "      <th>AgeGroupIncomeMeanGroups</th>\n",
       "      <th>AgeGroupIncomeFromMean</th>\n",
       "    </tr>\n",
       "  </thead>\n",
       "  <tbody>\n",
       "    <tr>\n",
       "      <th>0</th>\n",
       "      <td>1</td>\n",
       "      <td>238428.745432</td>\n",
       "    </tr>\n",
       "    <tr>\n",
       "      <th>1</th>\n",
       "      <td>-1</td>\n",
       "      <td>-111571.254568</td>\n",
       "    </tr>\n",
       "    <tr>\n",
       "      <th>2</th>\n",
       "      <td>2</td>\n",
       "      <td>638428.745432</td>\n",
       "    </tr>\n",
       "    <tr>\n",
       "      <th>3</th>\n",
       "      <td>2</td>\n",
       "      <td>538428.745432</td>\n",
       "    </tr>\n",
       "    <tr>\n",
       "      <th>4</th>\n",
       "      <td>2</td>\n",
       "      <td>505382.436261</td>\n",
       "    </tr>\n",
       "    <tr>\n",
       "      <th>...</th>\n",
       "      <td>...</td>\n",
       "      <td>...</td>\n",
       "    </tr>\n",
       "    <tr>\n",
       "      <th>492</th>\n",
       "      <td>2</td>\n",
       "      <td>755382.436261</td>\n",
       "    </tr>\n",
       "    <tr>\n",
       "      <th>493</th>\n",
       "      <td>1</td>\n",
       "      <td>124683.544304</td>\n",
       "    </tr>\n",
       "    <tr>\n",
       "      <th>494</th>\n",
       "      <td>1</td>\n",
       "      <td>188428.745432</td>\n",
       "    </tr>\n",
       "    <tr>\n",
       "      <th>495</th>\n",
       "      <td>-1</td>\n",
       "      <td>-275316.455696</td>\n",
       "    </tr>\n",
       "    <tr>\n",
       "      <th>496</th>\n",
       "      <td>1</td>\n",
       "      <td>24683.544304</td>\n",
       "    </tr>\n",
       "  </tbody>\n",
       "</table>\n",
       "<p>497 rows × 2 columns</p>\n",
       "</div>"
      ],
      "text/plain": [
       "     AgeGroupIncomeMeanGroups  AgeGroupIncomeFromMean\n",
       "0                           1           238428.745432\n",
       "1                          -1          -111571.254568\n",
       "2                           2           638428.745432\n",
       "3                           2           538428.745432\n",
       "4                           2           505382.436261\n",
       "..                        ...                     ...\n",
       "492                         2           755382.436261\n",
       "493                         1           124683.544304\n",
       "494                         1           188428.745432\n",
       "495                        -1          -275316.455696\n",
       "496                         1            24683.544304\n",
       "\n",
       "[497 rows x 2 columns]"
      ]
     },
     "execution_count": 29,
     "metadata": {},
     "output_type": "execute_result"
    }
   ],
   "source": [
    "train_df[\"AgeGroupIncomeMeanGroups\"] = pd.cut(train_df[\"AgeGroupIncomeFromMean\"], [-np.inf, -400000, 0, 400000, np.inf], labels=[-2, -1, 1, 2]).astype(\"int32\")\n",
    "test_df[\"AgeGroupIncomeMeanGroups\"] = pd.cut(test_df[\"AgeGroupIncomeFromMean\"], [-np.inf, -400000, 0, 400000, np.inf], labels=[-2, -1, 1, 2]).astype(\"int32\")\n",
    "test_df[[\"AgeGroupIncomeMeanGroups\", \"AgeGroupIncomeFromMean\"]]"
   ]
  },
  {
   "cell_type": "code",
   "execution_count": 30,
   "metadata": {},
   "outputs": [
    {
     "data": {
      "text/plain": [
       "<AxesSubplot:>"
      ]
     },
     "execution_count": 30,
     "metadata": {},
     "output_type": "execute_result"
    },
    {
     "data": {
      "image/png": "[encoded data removed]",
      "text/plain": [
       "<Figure size 432x288 with 1 Axes>"
      ]
     },
     "metadata": {
      "needs_background": "light"
     },
     "output_type": "display_data"
    }
   ],
   "source": [
    "train_df[\"AgeGroupIncomeMeanGroups\"].hist()"
   ]
  },
  {
   "cell_type": "code",
   "execution_count": 31,
   "metadata": {},
   "outputs": [
    {
     "data": {
      "text/plain": [
       "<AxesSubplot:>"
      ]
     },
     "execution_count": 31,
     "metadata": {},
     "output_type": "execute_result"
    },
    {
     "data": {
      "image/png": "[encoded data removed]",
      "text/plain": [
       "<Figure size 432x288 with 1 Axes>"
      ]
     },
     "metadata": {
      "needs_background": "light"
     },
     "output_type": "display_data"
    }
   ],
   "source": [
    "test_df[\"AgeGroupIncomeMeanGroups\"].hist()"
   ]
  },
  {
   "cell_type": "code",
   "execution_count": 32,
   "metadata": {},
   "outputs": [
    {
     "data": {
      "text/html": [
       "<div>\n",
       "<style scoped>\n",
       "    .dataframe tbody tr th:only-of-type {\n",
       "        vertical-align: middle;\n",
       "    }\n",
       "\n",
       "    .dataframe tbody tr th {\n",
       "        vertical-align: top;\n",
       "    }\n",
       "\n",
       "    .dataframe thead th {\n",
       "        text-align: right;\n",
       "    }\n",
       "</style>\n",
       "<table border=\"1\" class=\"dataframe\">\n",
       "  <thead>\n",
       "    <tr style=\"text-align: right;\">\n",
       "      <th></th>\n",
       "      <th>Age</th>\n",
       "      <th>AgeGroupIncomeMeanGroups</th>\n",
       "      <th>AnnualIncome</th>\n",
       "      <th>AgeGroupIncomeFromMean</th>\n",
       "      <th>GroupMeanIncome</th>\n",
       "    </tr>\n",
       "  </thead>\n",
       "  <tbody>\n",
       "    <tr>\n",
       "      <th>0</th>\n",
       "      <td>29</td>\n",
       "      <td>1</td>\n",
       "      <td>1100000</td>\n",
       "      <td>238428.745432</td>\n",
       "      <td>8.615713e+05</td>\n",
       "    </tr>\n",
       "    <tr>\n",
       "      <th>1</th>\n",
       "      <td>28</td>\n",
       "      <td>-1</td>\n",
       "      <td>750000</td>\n",
       "      <td>-111571.254568</td>\n",
       "      <td>8.615713e+05</td>\n",
       "    </tr>\n",
       "    <tr>\n",
       "      <th>2</th>\n",
       "      <td>31</td>\n",
       "      <td>2</td>\n",
       "      <td>1500000</td>\n",
       "      <td>638428.745432</td>\n",
       "      <td>8.615713e+05</td>\n",
       "    </tr>\n",
       "    <tr>\n",
       "      <th>3</th>\n",
       "      <td>28</td>\n",
       "      <td>2</td>\n",
       "      <td>1400000</td>\n",
       "      <td>538428.745432</td>\n",
       "      <td>8.615713e+05</td>\n",
       "    </tr>\n",
       "    <tr>\n",
       "      <th>4</th>\n",
       "      <td>33</td>\n",
       "      <td>2</td>\n",
       "      <td>1500000</td>\n",
       "      <td>505382.436261</td>\n",
       "      <td>9.946176e+05</td>\n",
       "    </tr>\n",
       "    <tr>\n",
       "      <th>...</th>\n",
       "      <td>...</td>\n",
       "      <td>...</td>\n",
       "      <td>...</td>\n",
       "      <td>...</td>\n",
       "      <td>...</td>\n",
       "    </tr>\n",
       "    <tr>\n",
       "      <th>492</th>\n",
       "      <td>33</td>\n",
       "      <td>2</td>\n",
       "      <td>1750000</td>\n",
       "      <td>755382.436261</td>\n",
       "      <td>9.946176e+05</td>\n",
       "    </tr>\n",
       "    <tr>\n",
       "      <th>493</th>\n",
       "      <td>25</td>\n",
       "      <td>1</td>\n",
       "      <td>1150000</td>\n",
       "      <td>124683.544304</td>\n",
       "      <td>1.025316e+06</td>\n",
       "    </tr>\n",
       "    <tr>\n",
       "      <th>494</th>\n",
       "      <td>29</td>\n",
       "      <td>1</td>\n",
       "      <td>1050000</td>\n",
       "      <td>188428.745432</td>\n",
       "      <td>8.615713e+05</td>\n",
       "    </tr>\n",
       "    <tr>\n",
       "      <th>495</th>\n",
       "      <td>25</td>\n",
       "      <td>-1</td>\n",
       "      <td>750000</td>\n",
       "      <td>-275316.455696</td>\n",
       "      <td>1.025316e+06</td>\n",
       "    </tr>\n",
       "    <tr>\n",
       "      <th>496</th>\n",
       "      <td>27</td>\n",
       "      <td>1</td>\n",
       "      <td>1050000</td>\n",
       "      <td>24683.544304</td>\n",
       "      <td>1.025316e+06</td>\n",
       "    </tr>\n",
       "  </tbody>\n",
       "</table>\n",
       "<p>497 rows × 5 columns</p>\n",
       "</div>"
      ],
      "text/plain": [
       "     Age  AgeGroupIncomeMeanGroups  AnnualIncome  AgeGroupIncomeFromMean  \\\n",
       "0     29                         1       1100000           238428.745432   \n",
       "1     28                        -1        750000          -111571.254568   \n",
       "2     31                         2       1500000           638428.745432   \n",
       "3     28                         2       1400000           538428.745432   \n",
       "4     33                         2       1500000           505382.436261   \n",
       "..   ...                       ...           ...                     ...   \n",
       "492   33                         2       1750000           755382.436261   \n",
       "493   25                         1       1150000           124683.544304   \n",
       "494   29                         1       1050000           188428.745432   \n",
       "495   25                        -1        750000          -275316.455696   \n",
       "496   27                         1       1050000            24683.544304   \n",
       "\n",
       "     GroupMeanIncome  \n",
       "0       8.615713e+05  \n",
       "1       8.615713e+05  \n",
       "2       8.615713e+05  \n",
       "3       8.615713e+05  \n",
       "4       9.946176e+05  \n",
       "..               ...  \n",
       "492     9.946176e+05  \n",
       "493     1.025316e+06  \n",
       "494     8.615713e+05  \n",
       "495     1.025316e+06  \n",
       "496     1.025316e+06  \n",
       "\n",
       "[497 rows x 5 columns]"
      ]
     },
     "execution_count": 32,
     "metadata": {},
     "output_type": "execute_result"
    }
   ],
   "source": [
    "test_df[[\"Age\", \"AgeGroupIncomeMeanGroups\", \"AnnualIncome\", \"AgeGroupIncomeFromMean\", \"GroupMeanIncome\"]]"
   ]
  },
  {
   "cell_type": "code",
   "execution_count": 33,
   "metadata": {},
   "outputs": [],
   "source": [
    "train_df[\"IncomePerFamilyMember\"] = train_df[\"AnnualIncome\"] / train_df[\"FamilyMembers\"]\n",
    "test_df[\"IncomePerFamilyMember\"] = test_df[\"AnnualIncome\"] / test_df[\"FamilyMembers\"]"
   ]
  },
  {
   "cell_type": "code",
   "execution_count": 34,
   "metadata": {},
   "outputs": [],
   "source": [
    "train_df[\"IncomePerFamilyMemberQ\"] = pd.qcut(train_df[\"IncomePerFamilyMember\"], q=5, labels=[1, 2, 3, 4, 5])\n",
    "test_df[\"IncomePerFamilyMemberQ\"] = pd.qcut(test_df[\"IncomePerFamilyMember\"], q=5, labels=[1, 2, 3, 4, 5])"
   ]
  },
  {
   "cell_type": "code",
   "execution_count": 35,
   "metadata": {},
   "outputs": [
    {
     "data": {
      "text/plain": [
       "array([[<AxesSubplot:title={'center':'IncomePerFamilyMember'}>]],\n",
       "      dtype=object)"
      ]
     },
     "execution_count": 35,
     "metadata": {},
     "output_type": "execute_result"
    },
    {
     "data": {
      "image/png": "[encoded data removed]",
      "text/plain": [
       "<Figure size 432x288 with 1 Axes>"
      ]
     },
     "metadata": {
      "needs_background": "light"
     },
     "output_type": "display_data"
    }
   ],
   "source": [
    "train_df[[\"IncomePerFamilyMember\"]].hist()"
   ]
  },
  {
   "cell_type": "code",
   "execution_count": 36,
   "metadata": {},
   "outputs": [
    {
     "data": {
      "text/plain": [
       "array([[<AxesSubplot:title={'center':'IncomePerFamilyMember'}>]],\n",
       "      dtype=object)"
      ]
     },
     "execution_count": 36,
     "metadata": {},
     "output_type": "execute_result"
    },
    {
     "data": {
      "image/png": "[encoded data removed]",
      "text/plain": [
       "<Figure size 432x288 with 1 Axes>"
      ]
     },
     "metadata": {
      "needs_background": "light"
     },
     "output_type": "display_data"
    }
   ],
   "source": [
    "test_df[[\"IncomePerFamilyMember\"]].hist()"
   ]
  },
  {
   "cell_type": "markdown",
   "metadata": {},
   "source": [
    "### Features y target"
   ]
  },
  {
   "cell_type": "code",
   "execution_count": 37,
   "metadata": {},
   "outputs": [],
   "source": [
    "def plot_category(category, dataframe, ax=None):\n",
    "    groupped_df = pd.DataFrame(train_df[[category, \"TravelInsurance\"]].groupby([category, \"TravelInsurance\"]).size())\n",
    "    plot_df = groupped_df.unstack()[0].reset_index()\n",
    "    plot_df.set_index(category).plot(kind=\"bar\", stacked=True, ax=ax)\n",
    "    ax.set_title(category)\n",
    "    ax.set_xlabel(None)\n",
    "    ax.tick_params(labelrotation=0)\n",
    "    for p in ax.patches:\n",
    "        width, height = p.get_width(), p.get_height()\n",
    "        x, y = p.get_xy() \n",
    "        ax.text(x+width/2, \n",
    "            y+height/2, \n",
    "            '{:.0f}'.format(height), \n",
    "            horizontalalignment='center', \n",
    "            verticalalignment='center')"
   ]
  },
  {
   "cell_type": "code",
   "execution_count": 38,
   "metadata": {},
   "outputs": [],
   "source": [
    "plot_columns = [\"Age\", \"IncomeGroup\", \"Employment Type\", \"GraduateOrNot\", \"FamilyMembers\", \"FamilyType\", \"ChronicDiseases\", \"FrequentFlyer\", \"EverTravelledAbroad\", \"AgeGroups\", \"AgeGroupAboveMean\", \"IncomePerFamilyMemberQ\", \"AgeGroupIncomeMeanGroups\"]"
   ]
  },
  {
   "cell_type": "code",
   "execution_count": 39,
   "metadata": {},
   "outputs": [
    {
     "data": {
      "image/png": "[encoded data removed]",
      "text/plain": [
       "<Figure size 1080x1800 with 14 Axes>"
      ]
     },
     "metadata": {
      "needs_background": "light"
     },
     "output_type": "display_data"
    }
   ],
   "source": [
    "fig, axes = plt.subplots(math.ceil(len(plot_columns)/2.0), 2, figsize=(15,25))\n",
    "for i, col in enumerate(plot_columns):\n",
    "    prow = math.floor(i / 2)\n",
    "    pcol = int(i % 2)\n",
    "    plot_category(col, train_df, axes[prow, pcol])"
   ]
  },
  {
   "cell_type": "code",
   "execution_count": 40,
   "metadata": {},
   "outputs": [],
   "source": [
    "from sklearn.metrics import classification_report, f1_score, make_scorer, recall_score\n",
    "from sklearn.model_selection import GridSearchCV"
   ]
  },
  {
   "cell_type": "code",
   "execution_count": 41,
   "metadata": {},
   "outputs": [],
   "source": [
    "def best_metrics(model, params, X_train, y_train):\n",
    "    recall_scorer = make_scorer(recall_score, pos_label=1, average=\"binary\")\n",
    "    gsCV = GridSearchCV(model, params, cv=5, scoring=\"f1\", n_jobs=-1, refit=True)\n",
    "    gsCV.fit(X_train, y_train)\n",
    "    best_gsCV = gsCV.best_estimator_\n",
    "    print('Metricas\\n')\n",
    "    print(classification_report(y_train, best_gsCV.predict(X_train)))\n",
    "    print(\"F1 score: \", round(f1_score(y_train,  best_gsCV.predict(X_train)) ,2))\n",
    "    print(\"Mejores parametros: \", gsCV.best_params_)\n",
    "    return gsCV"
   ]
  },
  {
   "cell_type": "markdown",
   "metadata": {},
   "source": [
    "### Fixing dataframe"
   ]
  },
  {
   "cell_type": "code",
   "execution_count": 42,
   "metadata": {},
   "outputs": [],
   "source": [
    "def mangle_columns(df):\n",
    "    drop_cols = [\"Age\", \"Employment Type\", \"GraduateOrNot\", \"IncomeGroup\", \"AnnualIncome\", \"Customer\", \"AgeGroupAboveMean\", \"AgeGroupIncomeFromMean\", \"GroupMeanIncome\", \"IncomePerFamilyMember\", \"AgeGroups\", \"IncomePerFamilyMemberQ\", \"FamilyType\", \"FamilyMembers\", \"AgeGroupIncomeMeanGroups\"]\n",
    "    out_df = df.copy()\n",
    "    out_df[\"SelfEmployed?\"] = pd.get_dummies(train_df[\"Employment Type\"], drop_first=True)\n",
    "    out_df[\"GraduateOrNot\"] = pd.get_dummies(train_df[\"GraduateOrNot\"], drop_first=True)\n",
    "    out_df[\"EverTravelledAbroad\"] = pd.get_dummies(train_df[\"EverTravelledAbroad\"], drop_first=True)\n",
    "    out_df[\"FrequentFlyer\"] = pd.get_dummies(train_df[\"FrequentFlyer\"], drop_first=True)\n",
    "    \n",
    "    dummies = pd.get_dummies(train_df[\"IncomeGroup\"], prefix=\"IncomeGroup\")\n",
    "    out_df[dummies.columns] = dummies\n",
    "    \n",
    "    dummies = pd.get_dummies(train_df[\"AgeGroups\"], prefix=\"AgeGroups\")\n",
    "    out_df[dummies.columns] = dummies\n",
    "    \n",
    "    dummies = pd.get_dummies(train_df[\"IncomePerFamilyMemberQ\"], prefix=\"IncomePerFamilyMemberQ\")\n",
    "    out_df[dummies.columns] = dummies\n",
    "    \n",
    "    dummies = pd.get_dummies(train_df[\"FamilyType\"], prefix=\"FamilyType\")\n",
    "    out_df[dummies.columns] = dummies\n",
    "    \n",
    "    dummies = pd.get_dummies(train_df[\"AgeGroupIncomeMeanGroups\"], prefix=\"AgeGroupIncomeMeanGroups\")\n",
    "    out_df[dummies.columns] = dummies\n",
    "    \n",
    "    out_df = out_df.drop(columns=drop_cols)\n",
    "    return out_df"
   ]
  },
  {
   "cell_type": "code",
   "execution_count": 43,
   "metadata": {},
   "outputs": [
    {
     "data": {
      "text/html": [
       "<div>\n",
       "<style scoped>\n",
       "    .dataframe tbody tr th:only-of-type {\n",
       "        vertical-align: middle;\n",
       "    }\n",
       "\n",
       "    .dataframe tbody tr th {\n",
       "        vertical-align: top;\n",
       "    }\n",
       "\n",
       "    .dataframe thead th {\n",
       "        text-align: right;\n",
       "    }\n",
       "</style>\n",
       "<table border=\"1\" class=\"dataframe\">\n",
       "  <thead>\n",
       "    <tr style=\"text-align: right;\">\n",
       "      <th></th>\n",
       "      <th>ChronicDiseases</th>\n",
       "      <th>FrequentFlyer</th>\n",
       "      <th>EverTravelledAbroad</th>\n",
       "      <th>TravelInsurance</th>\n",
       "      <th>SelfEmployed?</th>\n",
       "      <th>IncomeGroup_Lower</th>\n",
       "      <th>IncomeGroup_Mid-low</th>\n",
       "      <th>IncomeGroup_Mid</th>\n",
       "      <th>IncomeGroup_Mid-high</th>\n",
       "      <th>IncomeGroup_High</th>\n",
       "      <th>...</th>\n",
       "      <th>IncomePerFamilyMemberQ_3</th>\n",
       "      <th>IncomePerFamilyMemberQ_4</th>\n",
       "      <th>IncomePerFamilyMemberQ_5</th>\n",
       "      <th>FamilyType_Nucleus</th>\n",
       "      <th>FamilyType_Small</th>\n",
       "      <th>FamilyType_Big</th>\n",
       "      <th>AgeGroupIncomeMeanGroups_-2</th>\n",
       "      <th>AgeGroupIncomeMeanGroups_-1</th>\n",
       "      <th>AgeGroupIncomeMeanGroups_1</th>\n",
       "      <th>AgeGroupIncomeMeanGroups_2</th>\n",
       "    </tr>\n",
       "  </thead>\n",
       "  <tbody>\n",
       "    <tr>\n",
       "      <th>0</th>\n",
       "      <td>0</td>\n",
       "      <td>0</td>\n",
       "      <td>0</td>\n",
       "      <td>1</td>\n",
       "      <td>1</td>\n",
       "      <td>1</td>\n",
       "      <td>0</td>\n",
       "      <td>0</td>\n",
       "      <td>0</td>\n",
       "      <td>0</td>\n",
       "      <td>...</td>\n",
       "      <td>0</td>\n",
       "      <td>0</td>\n",
       "      <td>0</td>\n",
       "      <td>0</td>\n",
       "      <td>0</td>\n",
       "      <td>1</td>\n",
       "      <td>1</td>\n",
       "      <td>0</td>\n",
       "      <td>0</td>\n",
       "      <td>0</td>\n",
       "    </tr>\n",
       "    <tr>\n",
       "      <th>1</th>\n",
       "      <td>0</td>\n",
       "      <td>1</td>\n",
       "      <td>0</td>\n",
       "      <td>0</td>\n",
       "      <td>1</td>\n",
       "      <td>0</td>\n",
       "      <td>1</td>\n",
       "      <td>0</td>\n",
       "      <td>0</td>\n",
       "      <td>0</td>\n",
       "      <td>...</td>\n",
       "      <td>0</td>\n",
       "      <td>0</td>\n",
       "      <td>0</td>\n",
       "      <td>0</td>\n",
       "      <td>0</td>\n",
       "      <td>1</td>\n",
       "      <td>0</td>\n",
       "      <td>1</td>\n",
       "      <td>0</td>\n",
       "      <td>0</td>\n",
       "    </tr>\n",
       "    <tr>\n",
       "      <th>2</th>\n",
       "      <td>0</td>\n",
       "      <td>0</td>\n",
       "      <td>0</td>\n",
       "      <td>0</td>\n",
       "      <td>1</td>\n",
       "      <td>0</td>\n",
       "      <td>0</td>\n",
       "      <td>0</td>\n",
       "      <td>1</td>\n",
       "      <td>0</td>\n",
       "      <td>...</td>\n",
       "      <td>0</td>\n",
       "      <td>0</td>\n",
       "      <td>1</td>\n",
       "      <td>0</td>\n",
       "      <td>1</td>\n",
       "      <td>0</td>\n",
       "      <td>0</td>\n",
       "      <td>0</td>\n",
       "      <td>1</td>\n",
       "      <td>0</td>\n",
       "    </tr>\n",
       "    <tr>\n",
       "      <th>3</th>\n",
       "      <td>0</td>\n",
       "      <td>0</td>\n",
       "      <td>0</td>\n",
       "      <td>0</td>\n",
       "      <td>0</td>\n",
       "      <td>1</td>\n",
       "      <td>0</td>\n",
       "      <td>0</td>\n",
       "      <td>0</td>\n",
       "      <td>0</td>\n",
       "      <td>...</td>\n",
       "      <td>0</td>\n",
       "      <td>0</td>\n",
       "      <td>0</td>\n",
       "      <td>0</td>\n",
       "      <td>0</td>\n",
       "      <td>1</td>\n",
       "      <td>1</td>\n",
       "      <td>0</td>\n",
       "      <td>0</td>\n",
       "      <td>0</td>\n",
       "    </tr>\n",
       "    <tr>\n",
       "      <th>4</th>\n",
       "      <td>0</td>\n",
       "      <td>0</td>\n",
       "      <td>0</td>\n",
       "      <td>0</td>\n",
       "      <td>1</td>\n",
       "      <td>0</td>\n",
       "      <td>0</td>\n",
       "      <td>0</td>\n",
       "      <td>1</td>\n",
       "      <td>0</td>\n",
       "      <td>...</td>\n",
       "      <td>0</td>\n",
       "      <td>0</td>\n",
       "      <td>1</td>\n",
       "      <td>0</td>\n",
       "      <td>1</td>\n",
       "      <td>0</td>\n",
       "      <td>0</td>\n",
       "      <td>0</td>\n",
       "      <td>1</td>\n",
       "      <td>0</td>\n",
       "    </tr>\n",
       "    <tr>\n",
       "      <th>...</th>\n",
       "      <td>...</td>\n",
       "      <td>...</td>\n",
       "      <td>...</td>\n",
       "      <td>...</td>\n",
       "      <td>...</td>\n",
       "      <td>...</td>\n",
       "      <td>...</td>\n",
       "      <td>...</td>\n",
       "      <td>...</td>\n",
       "      <td>...</td>\n",
       "      <td>...</td>\n",
       "      <td>...</td>\n",
       "      <td>...</td>\n",
       "      <td>...</td>\n",
       "      <td>...</td>\n",
       "      <td>...</td>\n",
       "      <td>...</td>\n",
       "      <td>...</td>\n",
       "      <td>...</td>\n",
       "      <td>...</td>\n",
       "      <td>...</td>\n",
       "    </tr>\n",
       "    <tr>\n",
       "      <th>1485</th>\n",
       "      <td>0</td>\n",
       "      <td>0</td>\n",
       "      <td>0</td>\n",
       "      <td>0</td>\n",
       "      <td>0</td>\n",
       "      <td>1</td>\n",
       "      <td>0</td>\n",
       "      <td>0</td>\n",
       "      <td>0</td>\n",
       "      <td>0</td>\n",
       "      <td>...</td>\n",
       "      <td>0</td>\n",
       "      <td>0</td>\n",
       "      <td>0</td>\n",
       "      <td>0</td>\n",
       "      <td>0</td>\n",
       "      <td>1</td>\n",
       "      <td>1</td>\n",
       "      <td>0</td>\n",
       "      <td>0</td>\n",
       "      <td>0</td>\n",
       "    </tr>\n",
       "    <tr>\n",
       "      <th>1486</th>\n",
       "      <td>0</td>\n",
       "      <td>1</td>\n",
       "      <td>0</td>\n",
       "      <td>0</td>\n",
       "      <td>1</td>\n",
       "      <td>0</td>\n",
       "      <td>0</td>\n",
       "      <td>1</td>\n",
       "      <td>0</td>\n",
       "      <td>0</td>\n",
       "      <td>...</td>\n",
       "      <td>0</td>\n",
       "      <td>0</td>\n",
       "      <td>1</td>\n",
       "      <td>0</td>\n",
       "      <td>1</td>\n",
       "      <td>0</td>\n",
       "      <td>0</td>\n",
       "      <td>0</td>\n",
       "      <td>1</td>\n",
       "      <td>0</td>\n",
       "    </tr>\n",
       "    <tr>\n",
       "      <th>1487</th>\n",
       "      <td>0</td>\n",
       "      <td>0</td>\n",
       "      <td>0</td>\n",
       "      <td>0</td>\n",
       "      <td>1</td>\n",
       "      <td>0</td>\n",
       "      <td>0</td>\n",
       "      <td>0</td>\n",
       "      <td>1</td>\n",
       "      <td>0</td>\n",
       "      <td>...</td>\n",
       "      <td>0</td>\n",
       "      <td>1</td>\n",
       "      <td>0</td>\n",
       "      <td>0</td>\n",
       "      <td>0</td>\n",
       "      <td>1</td>\n",
       "      <td>0</td>\n",
       "      <td>0</td>\n",
       "      <td>1</td>\n",
       "      <td>0</td>\n",
       "    </tr>\n",
       "    <tr>\n",
       "      <th>1488</th>\n",
       "      <td>0</td>\n",
       "      <td>0</td>\n",
       "      <td>0</td>\n",
       "      <td>0</td>\n",
       "      <td>0</td>\n",
       "      <td>0</td>\n",
       "      <td>0</td>\n",
       "      <td>0</td>\n",
       "      <td>1</td>\n",
       "      <td>0</td>\n",
       "      <td>...</td>\n",
       "      <td>0</td>\n",
       "      <td>1</td>\n",
       "      <td>0</td>\n",
       "      <td>0</td>\n",
       "      <td>0</td>\n",
       "      <td>1</td>\n",
       "      <td>0</td>\n",
       "      <td>0</td>\n",
       "      <td>0</td>\n",
       "      <td>1</td>\n",
       "    </tr>\n",
       "    <tr>\n",
       "      <th>1489</th>\n",
       "      <td>0</td>\n",
       "      <td>0</td>\n",
       "      <td>0</td>\n",
       "      <td>0</td>\n",
       "      <td>1</td>\n",
       "      <td>0</td>\n",
       "      <td>1</td>\n",
       "      <td>0</td>\n",
       "      <td>0</td>\n",
       "      <td>0</td>\n",
       "      <td>...</td>\n",
       "      <td>0</td>\n",
       "      <td>0</td>\n",
       "      <td>0</td>\n",
       "      <td>0</td>\n",
       "      <td>1</td>\n",
       "      <td>0</td>\n",
       "      <td>0</td>\n",
       "      <td>1</td>\n",
       "      <td>0</td>\n",
       "      <td>0</td>\n",
       "    </tr>\n",
       "  </tbody>\n",
       "</table>\n",
       "<p>1490 rows × 25 columns</p>\n",
       "</div>"
      ],
      "text/plain": [
       "      ChronicDiseases  FrequentFlyer  EverTravelledAbroad  TravelInsurance  \\\n",
       "0                   0              0                    0                1   \n",
       "1                   0              1                    0                0   \n",
       "2                   0              0                    0                0   \n",
       "3                   0              0                    0                0   \n",
       "4                   0              0                    0                0   \n",
       "...               ...            ...                  ...              ...   \n",
       "1485                0              0                    0                0   \n",
       "1486                0              1                    0                0   \n",
       "1487                0              0                    0                0   \n",
       "1488                0              0                    0                0   \n",
       "1489                0              0                    0                0   \n",
       "\n",
       "      SelfEmployed?  IncomeGroup_Lower  IncomeGroup_Mid-low  IncomeGroup_Mid  \\\n",
       "0                 1                  1                    0                0   \n",
       "1                 1                  0                    1                0   \n",
       "2                 1                  0                    0                0   \n",
       "3                 0                  1                    0                0   \n",
       "4                 1                  0                    0                0   \n",
       "...             ...                ...                  ...              ...   \n",
       "1485              0                  1                    0                0   \n",
       "1486              1                  0                    0                1   \n",
       "1487              1                  0                    0                0   \n",
       "1488              0                  0                    0                0   \n",
       "1489              1                  0                    1                0   \n",
       "\n",
       "      IncomeGroup_Mid-high  IncomeGroup_High  ...  IncomePerFamilyMemberQ_3  \\\n",
       "0                        0                 0  ...                         0   \n",
       "1                        0                 0  ...                         0   \n",
       "2                        1                 0  ...                         0   \n",
       "3                        0                 0  ...                         0   \n",
       "4                        1                 0  ...                         0   \n",
       "...                    ...               ...  ...                       ...   \n",
       "1485                     0                 0  ...                         0   \n",
       "1486                     0                 0  ...                         0   \n",
       "1487                     1                 0  ...                         0   \n",
       "1488                     1                 0  ...                         0   \n",
       "1489                     0                 0  ...                         0   \n",
       "\n",
       "      IncomePerFamilyMemberQ_4  IncomePerFamilyMemberQ_5  FamilyType_Nucleus  \\\n",
       "0                            0                         0                   0   \n",
       "1                            0                         0                   0   \n",
       "2                            0                         1                   0   \n",
       "3                            0                         0                   0   \n",
       "4                            0                         1                   0   \n",
       "...                        ...                       ...                 ...   \n",
       "1485                         0                         0                   0   \n",
       "1486                         0                         1                   0   \n",
       "1487                         1                         0                   0   \n",
       "1488                         1                         0                   0   \n",
       "1489                         0                         0                   0   \n",
       "\n",
       "      FamilyType_Small  FamilyType_Big  AgeGroupIncomeMeanGroups_-2  \\\n",
       "0                    0               1                            1   \n",
       "1                    0               1                            0   \n",
       "2                    1               0                            0   \n",
       "3                    0               1                            1   \n",
       "4                    1               0                            0   \n",
       "...                ...             ...                          ...   \n",
       "1485                 0               1                            1   \n",
       "1486                 1               0                            0   \n",
       "1487                 0               1                            0   \n",
       "1488                 0               1                            0   \n",
       "1489                 1               0                            0   \n",
       "\n",
       "      AgeGroupIncomeMeanGroups_-1  AgeGroupIncomeMeanGroups_1  \\\n",
       "0                               0                           0   \n",
       "1                               1                           0   \n",
       "2                               0                           1   \n",
       "3                               0                           0   \n",
       "4                               0                           1   \n",
       "...                           ...                         ...   \n",
       "1485                            0                           0   \n",
       "1486                            0                           1   \n",
       "1487                            0                           1   \n",
       "1488                            0                           0   \n",
       "1489                            1                           0   \n",
       "\n",
       "      AgeGroupIncomeMeanGroups_2  \n",
       "0                              0  \n",
       "1                              0  \n",
       "2                              0  \n",
       "3                              0  \n",
       "4                              0  \n",
       "...                          ...  \n",
       "1485                           0  \n",
       "1486                           0  \n",
       "1487                           0  \n",
       "1488                           1  \n",
       "1489                           0  \n",
       "\n",
       "[1490 rows x 25 columns]"
      ]
     },
     "execution_count": 43,
     "metadata": {},
     "output_type": "execute_result"
    }
   ],
   "source": [
    "mangle_columns(train_df)"
   ]
  },
  {
   "cell_type": "markdown",
   "metadata": {},
   "source": [
    "### Primer approach explorando varios modelos"
   ]
  },
  {
   "cell_type": "code",
   "execution_count": 44,
   "metadata": {},
   "outputs": [],
   "source": [
    "from sklearn.model_selection import train_test_split\n",
    "from sklearn.metrics import recall_score, f1_score\n",
    "\n",
    "from sklearn.linear_model import SGDClassifier\n",
    "from sklearn.svm import SVC\n",
    "from sklearn.neighbors import KNeighborsClassifier\n",
    "from sklearn.gaussian_process import GaussianProcessClassifier\n",
    "from sklearn.naive_bayes import GaussianNB, BernoulliNB\n",
    "from sklearn.tree import DecisionTreeClassifier\n",
    "from sklearn.ensemble import GradientBoostingClassifier, RandomForestClassifier\n",
    "\n",
    "from xgboost import XGBClassifier"
   ]
  },
  {
   "cell_type": "code",
   "execution_count": 45,
   "metadata": {},
   "outputs": [],
   "source": [
    "def test_models(X, y):\n",
    "    models = [\n",
    "        SGDClassifier,\n",
    "        SVC,\n",
    "        KNeighborsClassifier,\n",
    "        # GaussianProcessClassifier,\n",
    "        GaussianNB, BernoulliNB,\n",
    "        DecisionTreeClassifier,\n",
    "        RandomForestClassifier,\n",
    "        GradientBoostingClassifier,\n",
    "        XGBClassifier\n",
    "\n",
    "    ]\n",
    "    \n",
    "    not_random_models = [KNeighborsClassifier, GaussianNB, BernoulliNB]\n",
    "    \n",
    "    X_train, X_validate, y_train, y_validate = train_test_split(X, y, test_size=140)\n",
    "\n",
    "    best_score = 0\n",
    "    best_clf = None\n",
    "    for model in models:\n",
    "        print(\"===========\")\n",
    "        print(f\"Model: {model.__name__}\")\n",
    "        \n",
    "        if model in not_random_models:\n",
    "            clf = model()\n",
    "        else:\n",
    "            clf = model(random_state=189)\n",
    "\n",
    "        clf.fit(X, y)\n",
    "\n",
    "        recall = recall_score(y_validate, clf.predict(X_validate), pos_label=1, average=\"binary\")\n",
    "        f1 = f1_score(y_validate, clf.predict(X_validate), pos_label=1, average=\"binary\")\n",
    "\n",
    "        print(f\"Recall of positive class: {recall:.4f}\")\n",
    "        print(f\"f1 score: {f1:.4f}\")\n",
    "        \n",
    "        if f1 > best_score:\n",
    "            best_clf = clf\n",
    "    return best_clf"
   ]
  },
  {
   "cell_type": "code",
   "execution_count": 46,
   "metadata": {},
   "outputs": [],
   "source": [
    "from sklearn.utils import resample\n",
    "\n",
    "sanitized_data = mangle_columns(train_df)\n",
    "\n",
    "df_majority = sanitized_data[sanitized_data.TravelInsurance==0]\n",
    "df_minority = sanitized_data[sanitized_data.TravelInsurance==1]\n",
    "\n",
    "df_minority_upsampled = resample(df_minority, \n",
    "                                 replace=True,\n",
    "                                 n_samples=len(df_majority),\n",
    "                                 random_state=189)\n",
    "df_upsampled = pd.concat([df_majority, df_minority_upsampled])\n"
   ]
  },
  {
   "cell_type": "code",
   "execution_count": 47,
   "metadata": {},
   "outputs": [
    {
     "name": "stdout",
     "output_type": "stream",
     "text": [
      "===========\n",
      "Model: SGDClassifier\n",
      "Recall of positive class: 0.6667\n",
      "f1 score: 0.6667\n",
      "===========\n",
      "Model: SVC\n",
      "Recall of positive class: 0.6667\n",
      "f1 score: 0.7519\n",
      "===========\n",
      "Model: KNeighborsClassifier\n",
      "Recall of positive class: 0.7733\n",
      "f1 score: 0.7785\n",
      "===========\n",
      "Model: GaussianNB\n",
      "Recall of positive class: 0.5200\n",
      "f1 score: 0.6341\n",
      "===========\n",
      "Model: BernoulliNB\n",
      "Recall of positive class: 0.5333\n",
      "f1 score: 0.6400\n",
      "===========\n",
      "Model: DecisionTreeClassifier\n",
      "Recall of positive class: 0.7333\n",
      "f1 score: 0.8148\n",
      "===========\n",
      "Model: RandomForestClassifier\n",
      "Recall of positive class: 0.7600\n",
      "f1 score: 0.7917\n",
      "===========\n",
      "Model: GradientBoostingClassifier\n",
      "Recall of positive class: 0.6533\n",
      "f1 score: 0.7481\n",
      "===========\n",
      "Model: XGBClassifier\n",
      "[18:47:14] WARNING: C:/Users/Administrator/workspace/xgboost-win64_release_1.4.0/src/learner.cc:1095: Starting in XGBoost 1.3.0, the default evaluation metric used with the objective 'binary:logistic' was changed from 'error' to 'logloss'. Explicitly set eval_metric if you'd like to restore the old behavior.\n",
      "Recall of positive class: 0.7467\n",
      "f1 score: 0.8058\n"
     ]
    },
    {
     "name": "stderr",
     "output_type": "stream",
     "text": [
      "C:\\Users\\gabyd\\anaconda3\\envs\\Diplo\\lib\\site-packages\\xgboost\\sklearn.py:1146: UserWarning: The use of label encoder in XGBClassifier is deprecated and will be removed in a future release. To remove this warning, do the following: 1) Pass option use_label_encoder=False when constructing XGBClassifier object; and 2) Encode your labels (y) as integers starting with 0, i.e. 0, 1, 2, ..., [num_class - 1].\n",
      "  warnings.warn(label_encoder_deprecation_msg, UserWarning)\n"
     ]
    }
   ],
   "source": [
    "X = df_upsampled.drop(columns=[\"TravelInsurance\"])\n",
    "y = df_upsampled[\"TravelInsurance\"]\n",
    "clf = test_models(X, y)"
   ]
  },
  {
   "cell_type": "code",
   "execution_count": 48,
   "metadata": {},
   "outputs": [
    {
     "name": "stdout",
     "output_type": "stream",
     "text": [
      "Metricas\n",
      "\n",
      "              precision    recall  f1-score   support\n",
      "\n",
      "           0       0.81      0.95      0.87       870\n",
      "           1       0.87      0.60      0.71       480\n",
      "\n",
      "    accuracy                           0.83      1350\n",
      "   macro avg       0.84      0.78      0.79      1350\n",
      "weighted avg       0.83      0.83      0.82      1350\n",
      "\n",
      "F1 score:  0.71\n",
      "Mejores parametros:  {'colsample_bytree': 0.6, 'eval_metric': 'auc', 'gamma': 0, 'learning_rate': 0.1, 'max_depth': 5, 'min_child_weight': 5, 'reg_lambda': 1, 'scale_pos_weight': 1, 'subsample': 0.8}\n"
     ]
    }
   ],
   "source": [
    "train_df_clean = mangle_columns(train_df)\n",
    "X = train_df_clean.drop(columns=[\"TravelInsurance\"])\n",
    "y = train_df_clean[\"TravelInsurance\"]\n",
    "X_train, X_validate, y_train, y_validate = train_test_split(X, y, test_size=140)\n",
    "\n",
    "params_xgb = {\n",
    "    'scale_pos_weight': [1, 1.8007],\n",
    "    \"max_depth\": [5, 6],\n",
    "    \"learning_rate\": [0.1],\n",
    "    \"gamma\": [0],\n",
    "    \"min_child_weight\": [1, 2, 5],\n",
    "    \"reg_lambda\": [1],\n",
    "    \"subsample\": [0.8],\n",
    "    \"colsample_bytree\": [0.6],\n",
    "    \"eval_metric\": [\"auc\", \"logloss\"]\n",
    "}\n",
    "\n",
    "results = best_metrics(XGBClassifier(use_label_encoder=False, tree_method='gpu_hist', predictor='gpu_predictor', nthread=1), params_xgb, X_train, y_train)\n"
   ]
  },
  {
   "cell_type": "code",
   "execution_count": 49,
   "metadata": {},
   "outputs": [],
   "source": [
    "xgb_estimator = results.best_estimator_"
   ]
  },
  {
   "cell_type": "markdown",
   "metadata": {},
   "source": [
    "### Check Results\n",
    "\n",
    "We can print the results of the best estimator found on the whole training set (we could also set apart a validation set if we find it useful)."
   ]
  },
  {
   "cell_type": "code",
   "execution_count": 50,
   "metadata": {
    "scrolled": true
   },
   "outputs": [
    {
     "name": "stdout",
     "output_type": "stream",
     "text": [
      "              precision    recall  f1-score   support\n",
      "\n",
      "           0       0.76      0.95      0.85        88\n",
      "           1       0.87      0.50      0.63        52\n",
      "\n",
      "    accuracy                           0.79       140\n",
      "   macro avg       0.82      0.73      0.74       140\n",
      "weighted avg       0.80      0.79      0.77       140\n",
      "\n"
     ]
    }
   ],
   "source": [
    "print(classification_report(y_validate, xgb_estimator.predict(X_validate)))"
   ]
  },
  {
   "cell_type": "code",
   "execution_count": 51,
   "metadata": {},
   "outputs": [
    {
     "name": "stdout",
     "output_type": "stream",
     "text": [
      "Metricas\n",
      "\n",
      "              precision    recall  f1-score   support\n",
      "\n",
      "           0       0.82      0.95      0.88       958\n",
      "           1       0.88      0.63      0.73       532\n",
      "\n",
      "    accuracy                           0.84      1490\n",
      "   macro avg       0.85      0.79      0.81      1490\n",
      "weighted avg       0.84      0.84      0.83      1490\n",
      "\n",
      "F1 score:  0.73\n",
      "Mejores parametros:  {'colsample_bytree': 0.6, 'eval_metric': 'auc', 'gamma': 0, 'learning_rate': 0.1, 'max_depth': 5, 'min_child_weight': 1, 'reg_lambda': 1, 'scale_pos_weight': 1, 'subsample': 0.8}\n"
     ]
    }
   ],
   "source": [
    "params_xgb = {\n",
    "    'scale_pos_weight': [1],\n",
    "    \"max_depth\": [5, 6],\n",
    "    \"learning_rate\": [0.1],\n",
    "    \"gamma\": [0],\n",
    "    \"min_child_weight\": [1, 2, 5],\n",
    "    \"reg_lambda\": [1],\n",
    "    \"subsample\": [0.8],\n",
    "    \"colsample_bytree\": [0.6],\n",
    "    \"eval_metric\": [\"auc\", \"logloss\"]\n",
    "}\n",
    "\n",
    "results = best_metrics(XGBClassifier(use_label_encoder=False, tree_method='gpu_hist', predictor='gpu_predictor', nthread=1), params_xgb, X, y)\n"
   ]
  },
  {
   "cell_type": "markdown",
   "metadata": {},
   "source": [
    "## Generate the output\n",
    "\n",
    "The last thing we do is generating a file that should be *submitted* on kaggle"
   ]
  },
  {
   "cell_type": "code",
   "execution_count": 52,
   "metadata": {},
   "outputs": [
    {
     "data": {
      "text/plain": [
       "Index(['ChronicDiseases', 'FrequentFlyer', 'EverTravelledAbroad',\n",
       "       'SelfEmployed?', 'IncomeGroup_Lower', 'IncomeGroup_Mid-low',\n",
       "       'IncomeGroup_Mid', 'IncomeGroup_Mid-high', 'IncomeGroup_High',\n",
       "       'AgeGroups_0_26', 'AgeGroups_27_32', 'AgeGroups_33+',\n",
       "       'IncomePerFamilyMemberQ_1', 'IncomePerFamilyMemberQ_2',\n",
       "       'IncomePerFamilyMemberQ_3', 'IncomePerFamilyMemberQ_4',\n",
       "       'IncomePerFamilyMemberQ_5', 'FamilyType_Nucleus', 'FamilyType_Small',\n",
       "       'FamilyType_Big', 'AgeGroupIncomeMeanGroups_-2',\n",
       "       'AgeGroupIncomeMeanGroups_-1', 'AgeGroupIncomeMeanGroups_1',\n",
       "       'AgeGroupIncomeMeanGroups_2'],\n",
       "      dtype='object')"
      ]
     },
     "execution_count": 52,
     "metadata": {},
     "output_type": "execute_result"
    }
   ],
   "source": [
    "df_upsampled.drop(columns=[\"TravelInsurance\"]).columns"
   ]
  },
  {
   "cell_type": "code",
   "execution_count": 53,
   "metadata": {},
   "outputs": [
    {
     "data": {
      "text/plain": [
       "Index(['ChronicDiseases', 'FrequentFlyer', 'EverTravelledAbroad',\n",
       "       'SelfEmployed?', 'IncomeGroup_Lower', 'IncomeGroup_Mid-low',\n",
       "       'IncomeGroup_Mid', 'IncomeGroup_Mid-high', 'IncomeGroup_High',\n",
       "       'AgeGroups_0_26', 'AgeGroups_27_32', 'AgeGroups_33+',\n",
       "       'IncomePerFamilyMemberQ_1', 'IncomePerFamilyMemberQ_2',\n",
       "       'IncomePerFamilyMemberQ_3', 'IncomePerFamilyMemberQ_4',\n",
       "       'IncomePerFamilyMemberQ_5', 'FamilyType_Nucleus', 'FamilyType_Small',\n",
       "       'FamilyType_Big', 'AgeGroupIncomeMeanGroups_-2',\n",
       "       'AgeGroupIncomeMeanGroups_-1', 'AgeGroupIncomeMeanGroups_1',\n",
       "       'AgeGroupIncomeMeanGroups_2'],\n",
       "      dtype='object')"
      ]
     },
     "execution_count": 53,
     "metadata": {},
     "output_type": "execute_result"
    }
   ],
   "source": [
    "X_test = mangle_columns(test_df)\n",
    "X_test.columns"
   ]
  },
  {
   "cell_type": "code",
   "execution_count": 54,
   "metadata": {},
   "outputs": [],
   "source": [
    "X_test = mangle_columns(test_df)\n",
    "\n",
    "test_id = test_df[\"Customer\"]\n",
    "test_pred = results.best_estimator_.predict(X_test)\n",
    "\n",
    "submission = pd.DataFrame(list(zip(test_id, test_pred)), columns=[\"Customer\", \"TravelInsurance\"])\n",
    "submission.to_csv(\"../data/travel_insurance_submission_xgb_sanitized.csv\", header=True, index=False)"
   ]
  }
 ],
 "metadata": {
  "kernelspec": {
   "display_name": "Python 3",
   "language": "python",
   "name": "python3"
  },
  "language_info": {
   "codemirror_mode": {
    "name": "ipython",
    "version": 3
   },
   "file_extension": ".py",
   "mimetype": "text/x-python",
   "name": "python",
   "nbconvert_exporter": "python",
   "pygments_lexer": "ipython3",
   "version": "3.8.10"
  }
 },
 "nbformat": 4,
 "nbformat_minor": 4
}
